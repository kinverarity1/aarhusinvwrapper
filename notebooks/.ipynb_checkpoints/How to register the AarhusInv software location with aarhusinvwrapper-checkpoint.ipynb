{
 "cells": [
  {
   "cell_type": "markdown",
   "metadata": {},
   "source": [
    "# How to register the AarhusInv software location with ``aarhusinvwrapper``"
   ]
  },
  {
   "cell_type": "code",
   "execution_count": 2,
   "metadata": {
    "collapsed": false
   },
   "outputs": [],
   "source": [
    "import os\n",
    "\n",
    "import aarhusinvwrapper"
   ]
  },
  {
   "cell_type": "markdown",
   "metadata": {},
   "source": [
    "``aarhusinvwrapper`` doesn't care where you store your AarhusInv executable, license registration executable, and configuration files, but it needs to know where they are in order to work. To do this you need to (once) register the location of these files.\n",
    "\n",
    "For example on my computer I store the AarhusInv files, manuals, etc., here:"
   ]
  },
  {
   "cell_type": "code",
   "execution_count": 7,
   "metadata": {
    "collapsed": false
   },
   "outputs": [
    {
     "name": "stdout",
     "output_type": "stream",
     "text": [
      "['AarhusInv.con', 'AarhusInv64.exe', 'AarhusInvLic.exe', 'libiomp5md.dll']\n"
     ]
    }
   ],
   "source": [
    "path = r\"F:\\Surface Geophysics\\software\\AarhusInv\"\n",
    "print os.listdir(path)"
   ]
  },
  {
   "cell_type": "markdown",
   "metadata": {},
   "source": [
    "Then after I install ``aarhusinvwrapper`` using:\n",
    "\n",
    "```\n",
    "$ python setup.py develop\n",
    "```\n",
    "\n",
    "I need to tell it where my AarhusInv executables are:"
   ]
  },
  {
   "cell_type": "code",
   "execution_count": 8,
   "metadata": {
    "collapsed": false
   },
   "outputs": [],
   "source": [
    "aarhusinvwrapper.register(path)"
   ]
  },
  {
   "cell_type": "markdown",
   "metadata": {},
   "source": [
    "Done. No need to revisit that. ``aarhusinvwrapper`` remembers this location in a configuration file stored in a OS-dependent location:"
   ]
  },
  {
   "cell_type": "code",
   "execution_count": 9,
   "metadata": {
    "collapsed": false
   },
   "outputs": [
    {
     "name": "stdout",
     "output_type": "stream",
     "text": [
      "C:\\Users\\kent\\AppData\\Roaming\\aarhusinvwrapper\\aarhusinvwrapper\\aarhusinvwrapper\n",
      "C:\\Users\\kent\\AppData\\Roaming\\aarhusinvwrapper\\aarhusinvwrapper\\aarhusinvwrapper\\aarhusinvwrapper.ini \n",
      "\n",
      "[main]\n",
      "aarhusinv_path = F:\\Surface Geophysics\\software\\AarhusInv\n",
      "\n",
      "\n"
     ]
    }
   ],
   "source": [
    "from aarhusinvwrapper import runmodule\n",
    "print runmodule.CONFIG_DIR\n",
    "print runmodule.CONFIG_FN, '\\n'\n",
    "with open(runmodule.CONFIG_FN, mode=\"r\") as f:\n",
    "    print f.read()"
   ]
  },
  {
   "cell_type": "markdown",
   "metadata": {
    "collapsed": true
   },
   "source": [
    "Note also that ``aarhusinvwrapper`` won't delete or modify or create any files in that location -- whenever it runs an inversion it will make temporary copies of the relevant files wherever you are running the inversion -- see the *Running AarhusInv via aarhusinvwrapper* notebook for more details."
   ]
  },
  {
   "cell_type": "code",
   "execution_count": null,
   "metadata": {
    "collapsed": true
   },
   "outputs": [],
   "source": []
  }
 ],
 "metadata": {
  "kernelspec": {
   "display_name": "Python 2",
   "language": "python",
   "name": "python2"
  },
  "language_info": {
   "codemirror_mode": {
    "name": "ipython",
    "version": 2
   },
   "file_extension": ".py",
   "mimetype": "text/x-python",
   "name": "python",
   "nbconvert_exporter": "python",
   "pygments_lexer": "ipython2",
   "version": "2.7.10"
  }
 },
 "nbformat": 4,
 "nbformat_minor": 0
}
