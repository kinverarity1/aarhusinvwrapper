{
 "cells": [
  {
   "cell_type": "markdown",
   "metadata": {},
   "source": [
    "# Read the inversion output .emo file"
   ]
  },
  {
   "cell_type": "code",
   "execution_count": 1,
   "metadata": {
    "collapsed": true
   },
   "outputs": [],
   "source": [
    "import pprint\n",
    "\n",
    "import aarhusinvwrapper"
   ]
  },
  {
   "cell_type": "code",
   "execution_count": 2,
   "metadata": {
    "collapsed": false
   },
   "outputs": [],
   "source": [
    "emo = aarhusinvwrapper.read_emo('example.emo')"
   ]
  },
  {
   "cell_type": "markdown",
   "metadata": {},
   "source": [
    "The object that is returned is basically a dictionary, but with attribute access (see [attrdict](https://pypi.python.org/pypi/attrdict))."
   ]
  },
  {
   "cell_type": "code",
   "execution_count": 3,
   "metadata": {
    "collapsed": false
   },
   "outputs": [
    {
     "data": {
      "text/plain": [
       "{'SharpHorizontal': -1.0,\n",
       " 'SharpPrior': 0.0,\n",
       " 'SharpVertical': -1.0,\n",
       " 'aniso_max': 0.0,\n",
       " 'aniso_min': 0.0,\n",
       " 'chrg_max': 0.0,\n",
       " 'chrg_min': 0.0,\n",
       " 'compile_datetime': None,\n",
       " 'compile_time': datetime.time(0, 0),\n",
       " 'data_fns': ['reedyck_7l_1000.tem'],\n",
       " 'dds': [29],\n",
       " 'doi': True,\n",
       " 'dset_src_types': [7],\n",
       " 'dset_types': [1],\n",
       " 'final_rhos': array([ 0.1  ,  1.3  ,  3.136,  4.717,  3.143,  1.569,  6.148]),\n",
       " 'final_thks': array([ 0.219,  0.832,  1.594,  3.307,  4.476,  8.445]),\n",
       " 'final_tops': array([  0.   ,   0.219,   1.051,   2.645,   5.952,  10.428]),\n",
       " 'fn': 'example.emo',\n",
       " 'min_apriori_std': 1e+60,\n",
       " 'model_fn': 'REEDYCK_7l_1000.mod',\n",
       " 'model_params': array([[ 0.   ,  4.43 ,  4.43 ,  4.43 ,  4.43 ,  4.43 ,  4.43 ,  4.43 ,\n",
       "          1.79 ,  0.79 ,  1.4  ,  2.51 ,  4.48 ,  8.   ],\n",
       "        [ 1.   ,  3.048,  3.793,  3.459,  3.167,  3.272,  3.724,  3.94 ,\n",
       "          1.79 ,  0.79 ,  1.4  ,  2.51 ,  4.48 ,  8.   ],\n",
       "        [ 2.   ,  2.297,  3.463,  2.973,  2.585,  2.812,  3.44 ,  3.754,\n",
       "          1.838,  0.781,  1.391,  2.539,  4.533,  8.022],\n",
       "        [ 3.   ,  1.4  ,  3.068,  2.427,  1.991,  2.398,  3.167,  3.59 ,\n",
       "          2.018,  0.761,  1.374,  2.603,  4.62 ,  8.057],\n",
       "        [ 4.   ,  0.628,  2.773,  2.14 ,  1.849,  2.402,  3.088,  3.619,\n",
       "          2.604,  0.738,  1.352,  2.612,  4.639,  8.075],\n",
       "        [ 5.   ,  0.514,  2.801,  2.407,  2.104,  2.276,  2.841,  3.712,\n",
       "          1.359,  0.759,  1.378,  2.629,  4.754,  8.12 ],\n",
       "        [ 6.   ,  0.243,  2.527,  3.414,  4.124,  2.492,  2.073,  4.174,\n",
       "          0.721,  0.807,  1.478,  2.681,  5.258,  8.502],\n",
       "        [ 7.   ,  0.111,  1.593,  3.136,  4.098,  2.485,  1.664,  5.669,\n",
       "          0.252,  0.821,  1.526,  2.9  ,  4.727,  8.528],\n",
       "        [ 8.   ,  0.1  ,  1.3  ,  3.136,  4.717,  3.143,  1.569,  6.148,\n",
       "          0.219,  0.832,  1.594,  3.307,  4.476,  8.445]]),\n",
       " 'models': [{'rhos': array([ 4.43,  4.43,  4.43,  4.43,  4.43,  4.43,  4.43]),\n",
       "   'thks': array([ 1.79,  0.79,  1.4 ,  2.51,  4.48,  8.  ]),\n",
       "   'tops': array([  0.  ,   1.79,   2.58,   3.98,   6.49,  10.97])},\n",
       "  {'rhos': array([ 3.048,  3.793,  3.459,  3.167,  3.272,  3.724,  3.94 ]),\n",
       "   'thks': array([ 1.79,  0.79,  1.4 ,  2.51,  4.48,  8.  ]),\n",
       "   'tops': array([  0.  ,   1.79,   2.58,   3.98,   6.49,  10.97])},\n",
       "  {'rhos': array([ 2.297,  3.463,  2.973,  2.585,  2.812,  3.44 ,  3.754]),\n",
       "   'thks': array([ 1.838,  0.781,  1.391,  2.539,  4.533,  8.022]),\n",
       "   'tops': array([  0.   ,   1.838,   2.619,   4.01 ,   6.549,  11.082])},\n",
       "  {'rhos': array([ 1.4  ,  3.068,  2.427,  1.991,  2.398,  3.167,  3.59 ]),\n",
       "   'thks': array([ 2.018,  0.761,  1.374,  2.603,  4.62 ,  8.057]),\n",
       "   'tops': array([  0.   ,   2.018,   2.779,   4.153,   6.756,  11.376])},\n",
       "  {'rhos': array([ 0.628,  2.773,  2.14 ,  1.849,  2.402,  3.088,  3.619]),\n",
       "   'thks': array([ 2.604,  0.738,  1.352,  2.612,  4.639,  8.075]),\n",
       "   'tops': array([  0.   ,   2.604,   3.342,   4.694,   7.306,  11.945])},\n",
       "  {'rhos': array([ 0.514,  2.801,  2.407,  2.104,  2.276,  2.841,  3.712]),\n",
       "   'thks': array([ 1.359,  0.759,  1.378,  2.629,  4.754,  8.12 ]),\n",
       "   'tops': array([  0.   ,   1.359,   2.118,   3.496,   6.125,  10.879])},\n",
       "  {'rhos': array([ 0.243,  2.527,  3.414,  4.124,  2.492,  2.073,  4.174]),\n",
       "   'thks': array([ 0.721,  0.807,  1.478,  2.681,  5.258,  8.502]),\n",
       "   'tops': array([  0.   ,   0.721,   1.528,   3.006,   5.687,  10.945])},\n",
       "  {'rhos': array([ 0.111,  1.593,  3.136,  4.098,  2.485,  1.664,  5.669]),\n",
       "   'thks': array([ 0.252,  0.821,  1.526,  2.9  ,  4.727,  8.528]),\n",
       "   'tops': array([  0.   ,   0.252,   1.073,   2.599,   5.499,  10.226])},\n",
       "  {'rhos': array([ 0.1  ,  1.3  ,  3.136,  4.717,  3.143,  1.569,  6.148]),\n",
       "   'thks': array([ 0.219,  0.832,  1.594,  3.307,  4.476,  8.445]),\n",
       "   'tops': array([  0.   ,   0.219,   1.051,   2.645,   5.952,  10.428])}],\n",
       " 'nds': 1,\n",
       " 'niterations': 8,\n",
       " 'nlayers_model': [7],\n",
       " 'nm': 1,\n",
       " 'nparams': 13,\n",
       " 'path': '',\n",
       " 'res_max': 20000.0,\n",
       " 'res_min': 0.1,\n",
       " 'run_date': datetime.date(2015, 10, 9),\n",
       " 'run_datetime': datetime.datetime(2015, 10, 9, 15, 48, 9),\n",
       " 'run_elapsed': 5.1,\n",
       " 'run_time': datetime.time(15, 48, 9),\n",
       " 'thk_max': 500.0,\n",
       " 'thk_min': 0.1,\n",
       " 'version': '6.10'}"
      ]
     },
     "execution_count": 3,
     "metadata": {},
     "output_type": "execute_result"
    }
   ],
   "source": [
    "emo"
   ]
  },
  {
   "cell_type": "markdown",
   "metadata": {},
   "source": [
    "Not everything in the emo file is read into this object yet, but most of the important stuff is.\n",
    "\n",
    "The ``niterations`` and ``nlayers_model`` attributes are useful, along with the ``models`` list, which shows the progression of the inversion. The ``final_rhos``, ``final_tops``, and ``final_thks`` are from the last model in the inversion.\n",
    "\n",
    "For example, below I've plotted the progress of the inversion in this example .emo file:"
   ]
  },
  {
   "cell_type": "code",
   "execution_count": 33,
   "metadata": {
    "collapsed": false
   },
   "outputs": [
    {
     "data": {
      "text/plain": [
       "<matplotlib.text.Text at 0x66267b0>"
      ]
     },
     "execution_count": 33,
     "metadata": {},
     "output_type": "execute_result"
    },
    {
     "data": {
      "image/png": "[encoded data removed]",
      "text/plain": [
       "<matplotlib.figure.Figure at 0x6640a50>"
      ]
     },
     "metadata": {},
     "output_type": "display_data"
    }
   ],
   "source": [
    "import matplotlib.pyplot as plt\n",
    "%matplotlib inline\n",
    "\n",
    "n = float(len(emo.models))\n",
    "for i, model in enumerate(emo.models):\n",
    "    plt.step(model.rhos, list(model.tops)+[20], lw=(n-i)+1, alpha=(i/n)+0.1, label=\"#%d\" % i)\n",
    "plt.gca().invert_yaxis()\n",
    "plt.legend(loc='best', frameon=False, fontsize='medium')\n",
    "plt.xlabel(r'Resistivity ($\\Omega$m)')\n",
    "plt.ylabel('Depth (m)')"
   ]
  },
  {
   "cell_type": "code",
   "execution_count": null,
   "metadata": {
    "collapsed": true
   },
   "outputs": [],
   "source": []
  }
 ],
 "metadata": {
  "kernelspec": {
   "display_name": "Python 2",
   "language": "python",
   "name": "python2"
  },
  "language_info": {
   "codemirror_mode": {
    "name": "ipython",
    "version": 2
   },
   "file_extension": ".py",
   "mimetype": "text/x-python",
   "name": "python",
   "nbconvert_exporter": "python",
   "pygments_lexer": "ipython2",
   "version": "2.7.10"
  }
 },
 "nbformat": 4,
 "nbformat_minor": 0
}
