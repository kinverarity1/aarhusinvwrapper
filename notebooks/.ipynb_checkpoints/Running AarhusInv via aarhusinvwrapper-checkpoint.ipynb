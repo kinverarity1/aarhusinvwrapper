{
 "cells": [
  {
   "cell_type": "markdown",
   "metadata": {},
   "source": [
    "# Running AarhusInv via ``aarhusinvwrapper``"
   ]
  },
  {
   "cell_type": "markdown",
   "metadata": {},
   "source": [
    "If you haven't already done so, first you need to register the location of your AarhusInv executables -- see the other notebook, *How to register the AarhusInv software location with aarhusinvwrapper*."
   ]
  },
  {
   "cell_type": "code",
   "execution_count": 5,
   "metadata": {
    "collapsed": false
   },
   "outputs": [],
   "source": [
    "import os\n",
    "\n",
    "import aarhusinvwrapper"
   ]
  },
  {
   "cell_type": "markdown",
   "metadata": {},
   "source": [
    "In order for an AarhusInv inversion to work you need a model file (.mod) and a data file (.tem for TEM)."
   ]
  },
  {
   "cell_type": "code",
   "execution_count": 6,
   "metadata": {
    "collapsed": false
   },
   "outputs": [],
   "source": [
    "modfn = os.path.join(\"run_example\", \"exampledata1_6l_1000.mod\")"
   ]
  },
  {
   "cell_type": "markdown",
   "metadata": {},
   "source": [
    "The inversion will produce files with the extensions \"emo\" and \"err\".\n",
    "\n",
    "To deal with the way that the online licensing system works, the script does the following in order to run an inversion:\n",
    "\n",
    "1. It makes a temporary copy of the ``AarhusInvLic.exe`` and ``AarhusInv64.exe`` executables in the inversion folder (location of the .mod file) -- it gets them from the registered location.\n",
    "2. It checks to see if there is an inversion configuration file (``AarhusInv.con``) alongside the .mod file. If there isn't, it also copies the default ``AarhusInv.con`` from the registered location into the inversion folder.\n",
    "3. It runs the inversion, and produces the output files in the same folder as the .mod file.\n",
    "4. It deletes its temporary copies of the AarhusInv executables.\n",
    "5. It leaves the configuration file in the inversion folder."
   ]
  },
  {
   "cell_type": "code",
   "execution_count": 7,
   "metadata": {
    "collapsed": false
   },
   "outputs": [
    {
     "name": "stdout",
     "output_type": "stream",
     "text": [
      "Model file                  :exampledata1_6l_1000.mod\r\n",
      "Using online license system ...\r\n",
      "Configuration file          :AarhusInv.con\r\n",
      "Reading the input data....\r\n",
      "Reading TDEM data file      :exampledata1_6l_1000.tem\r\n",
      "  Time domain data\r\n",
      "  Num. of data in this set  : 31\r\n",
      "  Num. of data removed by % :  0\r\n",
      "  Source type,field polar.  :  7  3\r\n",
      "  Input data transform      :  3\r\n",
      "  Output data transform     :  3\r\n",
      "  Inversion data transform  :  4\r\n",
      "Model and data set(s)\r\n",
      "  Number of data set(s)     :     1\r\n",
      "  Number of models          :     1\r\n",
      "  Constraints, width        :     1\r\n",
      "  SharpPrior     (-1 smooth):  0.00\r\n",
      "  SharpVert      (-1 smooth): -1.00\r\n",
      "  SharpHoriz     (-1 smooth): -1.00\r\n",
      "Checking license information....\r\n",
      "Inversion....\r\n",
      "-> Number of threads set to   1\r\n",
      "-> Forward response - computation time:     0.03 s; rate:    32.61 responses/s\r\n",
      " \r\n",
      "-> Iteration #  1\r\n",
      "-> Single side derivatives - computation time:     0.24 s; rate:    45.09 responses/s\r\n",
      "-> Inversion\r\n",
      "   -Damp #   0,  0.000E+00\r\n",
      "    System solved in # ite   1,   4.131E-04 s\r\n",
      "   -Damp #   1,  1.379E+00\r\n",
      "    System solved in # ite   1,   7.699E-06 s\r\n",
      "   -Damp #   2,  4.138E+00\r\n",
      "    System solved in # ite   1,   5.005E-06 s\r\n",
      "   -Damp #   3,  1.241E+01\r\n",
      "    System solved in # ite   1,   4.235E-06 s\r\n",
      "   -Damp #   4,  3.724E+01\r\n",
      "    System solved in # ite   1,   4.235E-06 s\r\n",
      "   -Damp #   5,  1.117E+02\r\n",
      "    System solved in # ite   1,   4.235E-06 s\r\n",
      "   -Damp #   6,  3.352E+02\r\n",
      "    System solved in # ite   1,   4.235E-06 s\r\n",
      "   -Damp #   7,  1.006E+03\r\n",
      "    System solved in # ite   1,   4.235E-06 s\r\n",
      "   -Damp #   8,  3.017E+03\r\n",
      "    System solved in # ite   1,   4.235E-06 s\r\n",
      "   -Damp #   9,  9.050E+03\r\n",
      "    System solved in # ite   1,   4.235E-06 s\r\n",
      "   -Damp #  10,  2.715E+04\r\n",
      "    System solved in # ite   1,   4.235E-06 s\r\n",
      "   -Damp #  11,  8.145E+04\r\n",
      "    System solved in # ite   1,   4.235E-06 s\r\n",
      "   -Damp #  12,  2.443E+05\r\n",
      "    System solved in # ite   1,   4.235E-06 s\r\n",
      "-> Forward response, new model parameters - computation time:     0.03 s; rate:    36.62 responses/s\r\n",
      "-> Norm:      Data  Apriori    Vert.   Horiz.    Depth    Total\r\n",
      "          384.8817   0.0000   0.1231   0.0000   0.0000 357.1551\r\n",
      "-> Iteration time:     0.27 s\r\n",
      "\r\n",
      "-> Analysis\r\n",
      "   -Coupled  (Bit 1) - computation time:     0.00 s\r\n",
      "-> Calculating DOI with 19 points from  2.50 m to 220.00 m - computation time:     0.97 s; rate:    19.63 responses/s\r\n",
      "-> Inversion output file written: exampledata1_6l_1000.emo\r\n",
      " \r\n",
      "   Total runtime               :    3.59 s\r\n",
      "   Forward and derivative calcs:   35.33 %\r\n",
      "   Linear solves               :    0.01 %\r\n",
      "   Analysis                    :    0.02 %\r\n",
      "   Others                      :   64.63 %\r\n",
      " \r\n",
      "                 AarhusInv\r\n",
      "               version 6.10\r\n",
      "           HydroGeophysics Group\r\n",
      "          Department of Geoscience\r\n",
      "             Aarhus University\r\n",
      "                  Denmark\r\n",
      "             e-mail hgg@geo.au.dk\r\n",
      "                www.hgg.au.dk\r\n",
      "\r\n",
      "\n"
     ]
    }
   ],
   "source": [
    "print aarhusinvwrapper.run(modfn)"
   ]
  },
  {
   "cell_type": "markdown",
   "metadata": {
    "collapsed": true
   },
   "source": [
    "As you can see above the ``run`` function will produce the output files ``exampledata1_6l_1000.err`` and ``exampledata1_6l_1000.emo``, and return the console output from ``AarhusInv64.exe`` as a string."
   ]
  },
  {
   "cell_type": "code",
   "execution_count": null,
   "metadata": {
    "collapsed": true
   },
   "outputs": [],
   "source": []
  }
 ],
 "metadata": {
  "kernelspec": {
   "display_name": "Python 2",
   "language": "python",
   "name": "python2"
  },
  "language_info": {
   "codemirror_mode": {
    "name": "ipython",
    "version": 2
   },
   "file_extension": ".py",
   "mimetype": "text/x-python",
   "name": "python",
   "nbconvert_exporter": "python",
   "pygments_lexer": "ipython2",
   "version": "2.7.10"
  }
 },
 "nbformat": 4,
 "nbformat_minor": 0
}
